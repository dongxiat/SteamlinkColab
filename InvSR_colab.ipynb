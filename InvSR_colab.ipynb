{
  "cells": [
    {
      "cell_type": "markdown",
      "metadata": {
        "id": "view-in-github",
        "colab_type": "text"
      },
      "source": [
        "<a href=\"https://colab.research.google.com/github/dongxiat/SteamlinkColab/blob/main/InvSR_colab.ipynb\" target=\"_parent\"><img src=\"https://colab.research.google.com/assets/colab-badge.svg\" alt=\"Open In Colab\"/></a>"
      ]
    },
    {
      "cell_type": "code",
      "execution_count": null,
      "metadata": {
        "id": "kbhoksIbTKpY"
      },
      "outputs": [],
      "source": [
        "%cd /content\n",
        "!git clone https://huggingface.co/spaces/OAOA/InvSR\n",
        "%cd /content/InvSR\n",
        "!pip install -r requirements.txt -q spaces\n",
        "!wget -O /content/InvSR/app.py https://raw.githubusercontent.com/zsyOAOA/InvSR/master/app.py\n",
        "!sed -i 's/share=False/share=True/' app.py\n"
      ]
    },
    {
      "cell_type": "code",
      "execution_count": null,
      "metadata": {
        "id": "a7jRHPUoVQ6d"
      },
      "outputs": [],
      "source": [
        "import torch\n",
        "torch.cuda.empty_cache()\n",
        "%cd /content/InvSR\n",
        "!python app.py"
      ]
    }
  ],
  "metadata": {
    "accelerator": "GPU",
    "colab": {
      "gpuType": "T4",
      "provenance": [],
      "authorship_tag": "ABX9TyPbG7HUZ7rlI0wlPJ+85u4I",
      "include_colab_link": true
    },
    "kernelspec": {
      "display_name": "Python 3",
      "name": "python3"
    },
    "language_info": {
      "name": "python"
    }
  },
  "nbformat": 4,
  "nbformat_minor": 0
}