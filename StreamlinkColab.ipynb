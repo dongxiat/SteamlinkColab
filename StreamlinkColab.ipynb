{
  "nbformat": 4,
  "nbformat_minor": 0,
  "metadata": {
    "colab": {
      "provenance": []
    },
    "kernelspec": {
      "name": "python3",
      "display_name": "Python 3"
    }
  },
  "cells": [
    {
      "cell_type": "markdown",
      "metadata": {
        "id": "WJ9XTTtVzHfX"
      },
      "source": [
        "##GDrive access your drive content"
      ]
    },
    {
      "cell_type": "code",
      "metadata": {
        "id": "tPuLCnbGFmxo",
        "colab": {
          "base_uri": "https://localhost:8080/"
        },
        "outputId": "2fff9c3c-8e83-47db-b23d-fafb19f93a0b"
      },
      "source": [
        "#@markdown <br><center><img src='https://upload.wikimedia.org/wikipedia/commons/thumb/d/da/Google_Drive_logo.png/600px-Google_Drive_logo.png' height=\"50\" alt=\"Gdrive-logo\"/></center>\n",
        "#@markdown <center><h3>Mount Gdrive to /content/drive</h3></center><br>\n",
        "MODE = \"MOUNT\" #@param [\"MOUNT\", \"UNMOUNT\"]\n",
        "#Mount your Gdrive!\n",
        "from google.colab import drive\n",
        "drive.mount._DEBUG = False\n",
        "if MODE == \"MOUNT\":\n",
        "  drive.mount('/content/drive', force_remount=True)\n",
        "elif MODE == \"UNMOUNT\":\n",
        "  try:\n",
        "    drive.flush_and_unmount()\n",
        "  except ValueError:\n",
        "    pass\n",
        "  get_ipython().system_raw(\"rm -rf /root/.config/Google/DriveFS\")"
      ],
      "execution_count": null,
      "outputs": [
        {
          "output_type": "stream",
          "name": "stdout",
          "text": [
            "Mounted at /content/drive\n"
          ]
        }
      ]
    },
    {
      "cell_type": "markdown",
      "metadata": {
        "id": "4pTdf-75d7It"
      },
      "source": [
        "##Streamlink"
      ]
    },
    {
      "cell_type": "code",
      "metadata": {
        "id": "BdxczAg_rqzD",
        "colab": {
          "base_uri": "https://localhost:8080/"
        },
        "outputId": "0fe9c082-12be-4dcf-f453-6557a62aadd3",
        "collapsed": true
      },
      "source": [
        "#@markdown <center><h2>Streamlink Installer</h2></center><br>\n",
        "#@markdown <center>Install StreamLink</center>\n",
        "!pip install streamlink"
      ],
      "execution_count": null,
      "outputs": [
        {
          "output_type": "stream",
          "name": "stdout",
          "text": [
            "Requirement already satisfied: streamlink in /usr/local/lib/python3.10/dist-packages (6.7.4)\n",
            "Requirement already satisfied: certifi in /usr/local/lib/python3.10/dist-packages (from streamlink) (2024.2.2)\n",
            "Requirement already satisfied: isodate in /usr/local/lib/python3.10/dist-packages (from streamlink) (0.6.1)\n",
            "Requirement already satisfied: lxml<6,>=4.6.4 in /usr/local/lib/python3.10/dist-packages (from streamlink) (4.9.4)\n",
            "Requirement already satisfied: pycountry in /usr/local/lib/python3.10/dist-packages (from streamlink) (23.12.11)\n",
            "Requirement already satisfied: pycryptodome<4,>=3.4.3 in /usr/local/lib/python3.10/dist-packages (from streamlink) (3.20.0)\n",
            "Requirement already satisfied: PySocks!=1.5.7,>=1.5.6 in /usr/local/lib/python3.10/dist-packages (from streamlink) (1.7.1)\n",
            "Requirement already satisfied: requests<3,>=2.26.0 in /usr/local/lib/python3.10/dist-packages (from streamlink) (2.31.0)\n",
            "Requirement already satisfied: trio<1,>=0.22.0 in /usr/local/lib/python3.10/dist-packages (from streamlink) (0.25.1)\n",
            "Requirement already satisfied: trio-websocket<1,>=0.9.0 in /usr/local/lib/python3.10/dist-packages (from streamlink) (0.11.1)\n",
            "Requirement already satisfied: typing-extensions>=4.0.0 in /usr/local/lib/python3.10/dist-packages (from streamlink) (4.11.0)\n",
            "Requirement already satisfied: urllib3<3,>=1.26.0 in /usr/local/lib/python3.10/dist-packages (from streamlink) (2.0.7)\n",
            "Requirement already satisfied: websocket-client<2,>=1.2.1 in /usr/local/lib/python3.10/dist-packages (from streamlink) (1.8.0)\n",
            "Requirement already satisfied: exceptiongroup in /usr/local/lib/python3.10/dist-packages (from streamlink) (1.2.1)\n",
            "Requirement already satisfied: charset-normalizer<4,>=2 in /usr/local/lib/python3.10/dist-packages (from requests<3,>=2.26.0->streamlink) (3.3.2)\n",
            "Requirement already satisfied: idna<4,>=2.5 in /usr/local/lib/python3.10/dist-packages (from requests<3,>=2.26.0->streamlink) (3.7)\n",
            "Requirement already satisfied: attrs>=23.2.0 in /usr/local/lib/python3.10/dist-packages (from trio<1,>=0.22.0->streamlink) (23.2.0)\n",
            "Requirement already satisfied: sortedcontainers in /usr/local/lib/python3.10/dist-packages (from trio<1,>=0.22.0->streamlink) (2.4.0)\n",
            "Requirement already satisfied: outcome in /usr/local/lib/python3.10/dist-packages (from trio<1,>=0.22.0->streamlink) (1.3.0.post0)\n",
            "Requirement already satisfied: sniffio>=1.3.0 in /usr/local/lib/python3.10/dist-packages (from trio<1,>=0.22.0->streamlink) (1.3.1)\n",
            "Requirement already satisfied: wsproto>=0.14 in /usr/local/lib/python3.10/dist-packages (from trio-websocket<1,>=0.9.0->streamlink) (1.2.0)\n",
            "Requirement already satisfied: six in /usr/local/lib/python3.10/dist-packages (from isodate->streamlink) (1.16.0)\n",
            "Requirement already satisfied: h11<1,>=0.9.0 in /usr/local/lib/python3.10/dist-packages (from wsproto>=0.14->trio-websocket<1,>=0.9.0->streamlink) (0.14.0)\n"
          ]
        }
      ]
    },
    {
      "cell_type": "code",
      "metadata": {
        "id": "6Fa5pg0fWctH",
        "colab": {
          "base_uri": "https://localhost:8080/"
        },
        "outputId": "1a8868d8-9b5b-4855-d8a2-2d2f47a498d1"
      },
      "source": [
        "#@markdown <center><h3><h2>Stream Recorder</h2>Record any stream</h3></center><br>\n",
        "#@markdown 1- Go to your Google Drive and create a directory called \"stream\" (whitout quotes).\n",
        "#@markdown <br />2- Mount Gdrive above.\n",
        "#@markdown <br />3- Install Streamlink above.\n",
        "#@markdown <br />4- Start recording bellow.\n",
        "import os\n",
        "import time\n",
        "import subprocess\n",
        "from IPython.display import clear_output\n",
        "RUN_Dir = \"/content/tools/stream\"\n",
        "\n",
        "if not RUN_Dir:\n",
        "  RUN_Dir = \"tools/stream\"\n",
        "os.makedirs(RUN_Dir, exist_ok=True)\n",
        "\n",
        "#@markdown <br />5 - You can add custom plugins by add file to your COLAB '/content/tools/stream' folder\n",
        "#code to use plugin that was removed from streamlink, remove the comment bellow and set the .py name\n",
        "#if not os.path.exists(f\"{RUN_Dir}/.py\"):\n",
        "#  !cd {RUN_Dir} && wget https://raw.githubusercontent.com/limontec/streamlink/master/src/streamlink/plugins/.py\n",
        "\n",
        "#@markdown ---\n",
        "#@markdown ####Type stream url\n",
        "streamURL =  \"https://www.tiktok.com/@chilly.hah/live\"  # @param {type:\"string\"}\n",
        "#@markdown ---\n",
        "#@markdown ####user-agent:\n",
        "useragent = \"Mozilla/5.0 (Windows NT 10.0; Win64; x64) AppleWebKit/537.36 (KHTML, like Gecko) Chrome/125.0.0.0 Safari/537.36 Edg/125.0.0.0\"  # @param {type:\"string\"}\n",
        "#@markdown ---\n",
        "#@markdown ####Type any name for the stream\n",
        "name = \"K-POP\"  # @param {type:\"string\"}\n",
        "#@markdown ---\n",
        "#@markdown ####Settings\n",
        "#@markdown start stream record\n",
        "start_record = True #@param {type:\"boolean\"}\n",
        "#@markdown try restart record after stream disconnect\n",
        "loop = True #@param {type:\"boolean\"}\n",
        "#@markdown upload video file to your Drive after finish every record\n",
        "upload_record = True #@param {type:\"boolean\"}\n",
        "#@markdown upload all videos in this session to your Drive\n",
        "upload_all = False #@param {type:\"boolean\"}\n",
        "#@markdown ---\n",
        "#@markdown fork from https://github.com/limontec/Streamlink-Recorder\n",
        "#@markdown #####Sites supported: https://streamlink.github.io/plugin_matrix.html\n",
        "#@markdown ---\n",
        "\n",
        "def record():\n",
        "  tempo = time.strftime('_%d-%m-%Y_%H-%M-%S')\n",
        "  if start_record:\n",
        "    !cd {RUN_Dir} && streamlink --plugin-dirs {RUN_Dir} {streamURL} best --http-header \"User-Agent=+{useragent}\" -o {RUN_Dir}/{name}{tempo}.mp4  --retry-streams 30 --retry-max 300\n",
        "  upload(tempo)\n",
        "\n",
        "def upload(tempo):\n",
        "  if(os.path.exists('/content/drive')):\n",
        "    if (upload_record and os.path.exists(RUN_Dir+'/'+name+tempo+'.mp4')) or loop:\n",
        "      try:\n",
        "        if(os.path.exists(RUN_Dir+'/'+name+tempo+'.mp4')):\n",
        "          print(\"Copying \"+name+tempo+\".mp4 to drive...\")\n",
        "          !cd {RUN_Dir} && cp {name}{tempo}.mp4 /content/drive/My\\ Drive/stream\n",
        "        else:\n",
        "          print(\"No file.\")\n",
        "      except Exception:\n",
        "        print(\"Error!\")\n",
        "    elif upload_all:\n",
        "      try:\n",
        "        print(\"Copying *.mp4 to drive...\")\n",
        "        os.system('cd '+RUN_Dir+' && cp *.mp4 /content/drive/My\\ Drive/stream')\n",
        "      except Exception:\n",
        "        print(\"Error!\")\n",
        "    else:\n",
        "      print(\"Nothing copied.\")\n",
        "  else:\n",
        "    print(\"You need to mount Gdrive to /content/drive to upload\")\n",
        "\n",
        "record()\n",
        "\n",
        "while loop:\n",
        "  tempo = time.strftime('_%d-%m-%Y_%H-%M-%S')\n",
        "  record()\n",
        "  clear_output()\n"
      ],
      "execution_count": null,
      "outputs": [
        {
          "output_type": "stream",
          "name": "stdout",
          "text": [
            "[cli][info] streamlink is running as root! Be careful!\n",
            "error: No plugin can handle URL: https://www.tiktok.com/@chilly.hah/live\n",
            "No file.\n"
          ]
        }
      ]
    }
  ]
}