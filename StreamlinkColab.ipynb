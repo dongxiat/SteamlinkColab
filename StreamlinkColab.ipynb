{
  "nbformat": 4,
  "nbformat_minor": 0,
  "metadata": {
    "colab": {
      "provenance": [],
      "include_colab_link": true
    },
    "kernelspec": {
      "name": "python3",
      "display_name": "Python 3"
    }
  },
  "cells": [
    {
      "cell_type": "markdown",
      "metadata": {
        "id": "view-in-github",
        "colab_type": "text"
      },
      "source": [
        "<a href=\"https://colab.research.google.com/github/dongxiat/SteamlinkColab/blob/main/StreamlinkColab.ipynb\" target=\"_parent\"><img src=\"https://colab.research.google.com/assets/colab-badge.svg\" alt=\"Open In Colab\"/></a>"
      ]
    },
    {
      "cell_type": "markdown",
      "metadata": {
        "id": "WJ9XTTtVzHfX"
      },
      "source": [
        "##GDrive access your drive content"
      ]
    },
    {
      "cell_type": "code",
      "metadata": {
        "id": "tPuLCnbGFmxo"
      },
      "source": [
        "#@markdown <br><center><img src='https://upload.wikimedia.org/wikipedia/commons/thumb/d/da/Google_Drive_logo.png/600px-Google_Drive_logo.png' height=\"50\" alt=\"Gdrive-logo\"/></center>\n",
        "#@markdown <center><h3>Mount Gdrive to /content/drive</h3></center><br>\n",
        "MODE = \"MOUNT\" #@param [\"MOUNT\", \"UNMOUNT\"]\n",
        "#Mount your Gdrive!\n",
        "from google.colab import drive\n",
        "drive.mount._DEBUG = False\n",
        "if MODE == \"MOUNT\":\n",
        "  drive.mount('/content/drive', force_remount=True)\n",
        "elif MODE == \"UNMOUNT\":\n",
        "  try:\n",
        "    drive.flush_and_unmount()\n",
        "  except ValueError:\n",
        "    pass\n",
        "  get_ipython().system_raw(\"rm -rf /root/.config/Google/DriveFS\")"
      ],
      "execution_count": null,
      "outputs": []
    },
    {
      "cell_type": "markdown",
      "metadata": {
        "id": "4pTdf-75d7It"
      },
      "source": [
        "##Streamlink"
      ]
    },
    {
      "cell_type": "code",
      "metadata": {
        "id": "BdxczAg_rqzD",
        "collapsed": true
      },
      "source": [
        "#@markdown <center><h2>Streamlink Installer</h2></center><br>\n",
        "#@markdown <center>Install StreamLink</center>\n",
        "!pip install streamlink"
      ],
      "execution_count": null,
      "outputs": []
    },
    {
      "cell_type": "code",
      "metadata": {
        "id": "6Fa5pg0fWctH"
      },
      "source": [
        "#@markdown <center><h3><h2>Stream Recorder</h2>Record any stream</h3></center><br>\n",
        "#@markdown 1- Go to your Google Drive and create a directory called \"stream\" (whitout quotes).\n",
        "#@markdown <br />2- Mount Gdrive above.\n",
        "#@markdown <br />3- Install Streamlink above.\n",
        "#@markdown <br />4- Start recording bellow.\n",
        "import os\n",
        "import time\n",
        "import subprocess\n",
        "from IPython.display import clear_output\n",
        "RUN_Dir = \"/content/tools/stream\"\n",
        "\n",
        "if not RUN_Dir:\n",
        "  RUN_Dir = \"tools/stream\"\n",
        "os.makedirs(RUN_Dir, exist_ok=True)\n",
        "\n",
        "#@markdown <br />5 - You can add custom plugins by add file to your COLAB '/content/tools/stream' folder\n",
        "#code to use plugin that was removed from streamlink, remove the comment bellow and set the .py name\n",
        "# if not os.path.exists(f\"{RUN_Dir}/tiktok.py\"):\n",
        "#  !cd {RUN_Dir} && wget https://raw.githubusercontent.com/dongxiat/SteamlinkColab/main/tiktok.py\n",
        "\n",
        "#@markdown ---\n",
        "#@markdown ####Type stream url\n",
        "streamURL =  \"https://www.youtube.com/watch?v=JVocS7Yftw8\"  # @param {type:\"string\"}\n",
        "#@markdown ---\n",
        "#@markdown ####user-agent:\n",
        "useragent = \"Mozilla/5.0 (Windows NT 10.0; Win64; x64) AppleWebKit/537.36 (KHTML, like Gecko) Chrome/125.0.0.0 Safari/537.36 Edg/125.0.0.0\"  # @param {type:\"string\"}\n",
        "#@markdown ---\n",
        "#@markdown ####Type any name for the stream\n",
        "name = \"K-POP\"  # @param {type:\"string\"}\n",
        "#@markdown ---\n",
        "#@markdown ####Settings\n",
        "#@markdown start stream record\n",
        "start_record = True #@param {type:\"boolean\"}\n",
        "#@markdown try restart record after stream disconnect\n",
        "loop = True #@param {type:\"boolean\"}\n",
        "#@markdown upload video file to your Drive after finish every record\n",
        "upload_record = True #@param {type:\"boolean\"}\n",
        "#@markdown upload all videos in this session to your Drive\n",
        "upload_all = False #@param {type:\"boolean\"}\n",
        "#@markdown ---\n",
        "#@markdown fork from https://github.com/limontec/Streamlink-Recorder\n",
        "#@markdown #####Sites supported: https://streamlink.github.io/plugin_matrix.html\n",
        "#@markdown ---\n",
        "\n",
        "def record():\n",
        "  tempo = time.strftime('_%d-%m-%Y_%H-%M-%S')\n",
        "  if start_record:\n",
        "    !cd {RUN_Dir} && streamlink --plugin-dirs {RUN_Dir} {streamURL} best --http-header \"User-Agent=+{useragent}\" -o {RUN_Dir}/{name}{tempo}.mp4  --retry-streams 30 --retry-max 300\n",
        "  upload(tempo)\n",
        "\n",
        "def upload(tempo):\n",
        "  if(os.path.exists('/content/drive')):\n",
        "    if (upload_record and os.path.exists(RUN_Dir+'/'+name+tempo+'.mp4')) or loop:\n",
        "      try:\n",
        "        if(os.path.exists(RUN_Dir+'/'+name+tempo+'.mp4')):\n",
        "          print(\"Copying \"+name+tempo+\".mp4 to drive...\")\n",
        "          !cd {RUN_Dir} && cp {name}{tempo}.mp4 /content/drive/My\\ Drive/stream\n",
        "        else:\n",
        "          print(\"No file.\")\n",
        "      except Exception:\n",
        "        print(\"Error!\")\n",
        "    elif upload_all:\n",
        "      try:\n",
        "        print(\"Copying *.mp4 to drive...\")\n",
        "        os.system('cd '+RUN_Dir+' && cp *.mp4 /content/drive/My\\ Drive/stream')\n",
        "      except Exception:\n",
        "        print(\"Error!\")\n",
        "    else:\n",
        "      print(\"Nothing copied.\")\n",
        "  else:\n",
        "    print(\"You need to mount Gdrive to /content/drive to upload\")\n",
        "\n",
        "record()\n",
        "\n",
        "while loop:\n",
        "  tempo = time.strftime('_%d-%m-%Y_%H-%M-%S')\n",
        "  record()\n",
        "  clear_output()\n"
      ],
      "execution_count": null,
      "outputs": []
    }
  ]
}